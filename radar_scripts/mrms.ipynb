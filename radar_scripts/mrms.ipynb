{
 "cells": [
  {
   "cell_type": "markdown",
   "id": "73c4f719-90f5-4767-8554-7e32d762e604",
   "metadata": {},
   "source": [
    "# Radar Mosiac Plotting\n",
    "\n",
    "This notebook is an example of downloading, gridding, and plotting radar mosiacs"
   ]
  },
  {
   "cell_type": "code",
   "execution_count": null,
   "id": "a4c0932b-f1c0-47fb-b51e-db26c8350b2d",
   "metadata": {},
   "outputs": [],
   "source": [
    "import matplotlib.pyplot as plt\n",
    "import matplotlib.colors as mcolors\n",
    "\n",
    "import cartopy.crs as ccrs\n",
    "import cartopy.feature as cfeature\n",
    "\n",
    "import requests\n",
    "\n",
    "from datetime import datetime, timedelta\n",
    "from netCDF4 import Dataset\n",
    "\n",
    "import glob\n",
    "import os\n",
    "\n",
    "import pyart\n",
    "\n",
    "import pandas as pd\n",
    "\n",
    "import numpy as np\n",
    "\n",
    "import zipfile\n",
    "\n",
    "import shutil\n",
    "\n",
    "import mmmpy"
   ]
  },
  {
   "cell_type": "code",
   "execution_count": null,
   "id": "51635b78-ccd1-49b3-9488-d556f8b7c39a",
   "metadata": {},
   "outputs": [],
   "source": [
    "#set date and location bounds\n",
    "#set time to plot (no leading zeros)\n",
    "year  = 2021\n",
    "month = 12\n",
    "day   = 11\n",
    "hour  = 0\n",
    "minute = 0\n",
    "    \n",
    "lat_min = 40\n",
    "lat_max = 50\n",
    "lon_min = -105\n",
    "lon_max = -85\n",
    "\n",
    "dt = datetime(year,month,day,hour,minute)\n",
    "url = 'https://mrms.agron.iastate.edu/' + dt.strftime('%Y/%m/%d/%Y%m%d%H') + '.zip'\n",
    "print(dt.hour)"
   ]
  },
  {
   "cell_type": "code",
   "execution_count": null,
   "id": "8ef253d1-e608-47b9-b026-c967ba39d34a",
   "metadata": {},
   "outputs": [],
   "source": [
    "#remove any old data\n",
    "try:\n",
    "    shutil.rmtree('./mrms_data')\n",
    "except:\n",
    "    pass\n",
    "\n",
    "os.mkdir('./mrms_data')\n",
    "\n",
    "dt = datetime(year,month,day,hour,minute)\n",
    "\n",
    "#download file and extract\n",
    "outfile =  './mrms_data/' + dt.strftime('%Y%m%d%H') + '.zip'\n",
    "url = 'https://mrms.agron.iastate.edu/' + dt.strftime('%Y/%m/%d/%Y%m%d%H') + '.zip'\n",
    "\n",
    "r = requests.get(url,allow_redirects=True)\n",
    "open(outfile,'wb').write(r.content)\n",
    "with zipfile.ZipFile(outfile,'r') as zip_ref:\n",
    "    zip_ref.extractall('./mrms_data/')\n"
   ]
  },
  {
   "cell_type": "code",
   "execution_count": null,
   "id": "25fccb39-fcab-4b68-8f5b-bbcf9135d473",
   "metadata": {},
   "outputs": [],
   "source": [
    "path = './mrms_data/*/CONUS/MergedBaseReflectivity/*'\n",
    "\n",
    "dat_file = sorted(glob.glob(path))[0]\n",
    "mosaic = mmmpy.MosaicTile(dat_file)\n",
    "\n",
    "print(datetime.utcfromtimestamp(mosaic.Time))"
   ]
  },
  {
   "cell_type": "code",
   "execution_count": null,
   "id": "ed2a5fdb-ae49-4cbe-878a-6cee82412180",
   "metadata": {},
   "outputs": [],
   "source": [
    "ext = [lon_min, lon_max, lat_min, lat_max]\n",
    "fig = plt.figure(figsize=(8, 8), dpi=200)\n",
    "projection = ccrs.PlateCarree()\n",
    "ax = plt.axes(projection=projection)\n",
    "ax.set_extent(ext)\n",
    "\n",
    "# Create a feature for States/Admin 1 regions at 1:10m from Natural Earth\n",
    "ax.add_feature(cfeature.STATES,edgecolor='k',linewidth=0.7)\n",
    "ax.add_feature(cfeature.COASTLINE,edgecolor='k',linewidth=1.0)\n",
    "\n",
    "mosaic.get_comp()\n",
    "valmask = np.ma.masked_where(mosaic.mrefl3d_comp <= 0, mosaic.mrefl3d_comp)\n",
    "cs = plt.pcolormesh(mosaic.Longitude, mosaic.Latitude, valmask, vmin=0, vmax=50,\n",
    "                    cmap='pyart_HomeyerRainbow', transform=projection)\n",
    "plt.colorbar(cs, label='Composite Reflectivity (dBZ)',\n",
    "             orientation='horizontal', pad=0.05, shrink=0.75, fraction=0.05, aspect=30)\n",
    "plt.title(dt.strftime('%m/%d/%Y %H:%M UTC'))\n",
    "outfile_date = dt.strftime('%Y%m%d_%H%M')\n",
    "fig.tight_layout()\n",
    "fig.savefig(f'{outfile_date}_mosaic.png',bbox_inches='tight')"
   ]
  },
  {
   "cell_type": "code",
   "execution_count": null,
   "id": "8c610787-1836-4993-9c2a-bb1093a37283",
   "metadata": {},
   "outputs": [],
   "source": []
  },
  {
   "cell_type": "code",
   "execution_count": null,
   "id": "e053feab-e011-40cb-894b-c42edf33d7a3",
   "metadata": {},
   "outputs": [],
   "source": []
  },
  {
   "cell_type": "code",
   "execution_count": null,
   "id": "a0ec0aba-c087-42ab-9b67-7345b38ac341",
   "metadata": {},
   "outputs": [],
   "source": []
  },
  {
   "cell_type": "code",
   "execution_count": null,
   "id": "ed2e8297-dfab-4d6e-bfea-390db178ac3e",
   "metadata": {},
   "outputs": [],
   "source": []
  },
  {
   "cell_type": "code",
   "execution_count": null,
   "id": "333f1862-62ea-4903-bf5c-64c922a24210",
   "metadata": {},
   "outputs": [],
   "source": []
  },
  {
   "cell_type": "code",
   "execution_count": null,
   "id": "094d875f-3005-4c9a-9555-546b30419ba0",
   "metadata": {},
   "outputs": [],
   "source": []
  }
 ],
 "metadata": {
  "kernelspec": {
   "display_name": "MPICH",
   "language": "python",
   "name": "mpich"
  },
  "language_info": {
   "codemirror_mode": {
    "name": "ipython",
    "version": 3
   },
   "file_extension": ".py",
   "mimetype": "text/x-python",
   "name": "python",
   "nbconvert_exporter": "python",
   "pygments_lexer": "ipython3",
   "version": "3.9.19"
  }
 },
 "nbformat": 4,
 "nbformat_minor": 5
}
