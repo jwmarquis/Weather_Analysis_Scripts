{
 "cells": [
  {
   "cell_type": "markdown",
   "id": "ea9010a5",
   "metadata": {},
   "source": [
    "# Rapid Refresh Model Plotting \n",
    "\n",
    "This notebook gives several examples of plotting model analyses from the RAP model."
   ]
  },
  {
   "cell_type": "code",
   "execution_count": 4,
   "id": "2b9e3af7",
   "metadata": {},
   "outputs": [],
   "source": [
    "#Required Libraries\n",
    "from datetime import datetime, timedelta\n",
    "\n",
    "from model_functions import *\n",
    "\n",
    "import cartopy.crs as ccrs\n",
    "import cartopy.feature as cfeature\n",
    "import cartopy.io.shapereader as shpreader\n",
    "\n",
    "import matplotlib.pyplot as plt\n",
    "import matplotlib.colors\n",
    "\n",
    "from metpy.plots import StationPlot\n",
    "from metpy.units import units\n",
    "import metpy.calc as mpcalc\n",
    "\n",
    "import numpy as np\n",
    "\n",
    "from netCDF4 import Dataset, num2date\n",
    "\n",
    "from scipy.ndimage import gaussian_filter\n",
    "\n",
    "from xarray.backends import NetCDF4DataStore\n",
    "import xarray as xr\n",
    "\n",
    "import pandas as pd"
   ]
  },
  {
   "cell_type": "code",
   "execution_count": 5,
   "id": "3db453a9",
   "metadata": {},
   "outputs": [],
   "source": [
    "#set time to plot (no leading zeros)\n",
    "start_year  = 2021\n",
    "start_month = 12\n",
    "start_day   = 10\n",
    "start_hour  = 12\n",
    "start_min   = 0\n",
    "    \n",
    "#location to plot\n",
    "#location = True\n",
    "location_lat = 37.5\n",
    "location_lon = -98.5\n",
    "#    OR\n",
    "#analysis bounds\n",
    "location = False\n",
    "lat_min = 30\n",
    "lat_max = 45\n",
    "lon_min = -110\n",
    "lon_max = -90"
   ]
  },
  {
   "cell_type": "code",
   "execution_count": 6,
   "id": "9dac1849",
   "metadata": {},
   "outputs": [
    {
     "name": "stdout",
     "output_type": "stream",
     "text": [
      "https://www.ncei.noaa.gov/thredds/catalog/model-rap130anl/202112/20211210/catalog.xml\n",
      "<siphon.ncss.NCSS object at 0x7f26bc4288e0>\n"
     ]
    }
   ],
   "source": [
    "dt = datetime(start_year,start_month,start_day,start_hour)\n",
    "ncss = get_rap_dataset(dt)\n",
    "#print(ncss)\n",
    "#for i in ncss.variables:\n",
    "#    if \"isobaric\" in i:\n",
    "#        print(i)"
   ]
  },
  {
   "cell_type": "code",
   "execution_count": null,
   "id": "f108afe2",
   "metadata": {},
   "outputs": [],
   "source": [
    "query = ncss.query()\n",
    "query.lonlat_box(north=lat_max,south=lat_min,east=lon_max,west=lon_min)\n",
    "query.all_times()\n",
    "query.add_lonlat()\n",
    "query.accept('netcdf')\n",
    "query.variables('Relative_humidity_isobaric',\n",
    "                'u-component_of_wind_isobaric',\n",
    "                'v-component_of_wind_isobaric',\n",
    "                'Temperature_isobaric',\n",
    "                'Geopotential_height_isobaric'\n",
    ")\n",
    "data = ncss.get_data(query)\n",
    "ds = xr.open_dataset(NetCDF4DataStore(data)).metpy.parse_cf()"
   ]
  },
  {
   "cell_type": "code",
   "execution_count": null,
   "id": "fa367f87-e77d-4e54-adff-0edc5864cb49",
   "metadata": {},
   "outputs": [],
   "source": [
    "dwpt = mpcalc.dewpoint_from_relative_humidity(ds.Temperature_isobaric, ds.Relative_humidity_isobaric)\n",
    "spec_humidity = mpcalc.specific_humidity_from_dewpoint(ds.isobaric, dwpt)\n",
    "\n",
    "print(ds.isobaric.shape)"
   ]
  },
  {
   "cell_type": "code",
   "execution_count": null,
   "id": "53e2dbe6-641b-49de-8651-f4b9bab20f5c",
   "metadata": {},
   "outputs": [],
   "source": [
    "isent_levs = np.arange(290,321,2) * units.kelvin\n",
    "\n",
    "#get isentropic data\n",
    "isen_ds = mpcalc.isentropic_interpolation_as_dataset(\n",
    "    isent_levs,\n",
    "    ds.Temperature_isobaric[0],\n",
    "    ds.Geopotential_height_isobaric[0],\n",
    "    ds.Relative_humidity_isobaric[0],\n",
    "    ds['u-component_of_wind_isobaric'][0],\n",
    "    ds['v-component_of_wind_isobaric'][0]\n",
    ")\n",
    "\n",
    "#smooth parameters\n",
    "isen_ds['pressure'] = mpcalc.smooth_n_point(isen_ds.pressure, 9, 10)\n",
    "isen_ds['Relative_humidity_isobaric'] = mpcalc.smooth_n_point(isen_ds.Relative_humidity_isobaric, 9, 10)\n",
    "isen_ds['temperature'] = mpcalc.smooth_n_point(isen_ds.temperature, 9, 10)\n",
    "isen_ds['Geopotential_height_isobaric'] = mpcalc.smooth_n_point(isen_ds.Geopotential_height_isobaric, 9, 10)"
   ]
  },
  {
   "cell_type": "code",
   "execution_count": null,
   "id": "a7d12015",
   "metadata": {},
   "outputs": [],
   "source": [
    "isen_level = 300*units.kelvin\n",
    "\n",
    "proj = ccrs.LambertConformal(central_longitude=-95,central_latitude=35,standard_parallels=[35])\n",
    "\n",
    "\n",
    "\n",
    "fig = plt.figure(figsize=(14,12))\n",
    "ax = fig.add_subplot(1,1,1,projection=proj)\n",
    "\n",
    "cs = ax.contour(ds.lon,ds.lat,isen_ds.pressure.metpy.sel(isentropic_level=isen_level),\n",
    "                   np.arange(100,1100,50),colors='black',transform=ccrs.PlateCarree())\n",
    "ax.clabel(cs,inline=True,fmt=lambda v: format(v,'.0f')[:3],zorder=10)\n",
    "\n",
    "\n",
    "wind_slice = (slice(None,None,20),slice(None,None,20))\n",
    "wb = ax.barbs(ds.lon[wind_slice].values,ds.lat[wind_slice].values,\n",
    "            isen_ds[\"u-component_of_wind_isobaric\"].metpy.sel(isentropic_level=isen_level)[wind_slice].metpy.convert_units('kts').values,\n",
    "            isen_ds[\"v-component_of_wind_isobaric\"].metpy.sel(isentropic_level=isen_level)[wind_slice].metpy.convert_units('kts').values,\n",
    "            length=7,lw=1,pivot='middle',color='black',transform=ccrs.PlateCarree())\n",
    "\n",
    "ax.add_feature(cfeature.STATES,edgecolor='k',linewidth=0.7)\n",
    "ax.add_feature(cfeature.COASTLINE,edgecolor='k',linewidth=1.0)\n",
    "ax.set_extent((lon_min,lon_max,lat_min,lat_max))\n",
    "\n",
    "tulsa = [36.15, -95.99]\n",
    "kc_mo = [39.10, -94.58]\n",
    "\n",
    "ax.scatter(tulsa[1],tulsa[0],marker='*',color='k',s=150,transform=ccrs.PlateCarree())\n",
    "ax.annotate(\"TULSA\",(tulsa[1]-1.50,tulsa[0]-0.40),fontsize=15,transform=ccrs.PlateCarree())\n",
    "\n",
    "ax.scatter(kc_mo[1],kc_mo[0],marker='*',color='k',s=150,transform=ccrs.PlateCarree())\n",
    "ax.annotate(\"KANSAS CITY\",(kc_mo[1]-3,kc_mo[0]-0.40),fontsize=15,transform=ccrs.PlateCarree())\n",
    "\n",
    "\n",
    "plt.title('300-K RAP Isentropic Chart, Pressure (hPa),'\n",
    "          ' and Wind Barbs (kt)', loc='left')\n",
    "vtime = ds.time[0].data.astype('datetime64[ms]').astype('O')\n",
    "plt.title('Valid Time: {}'.format(vtime), loc='right')\n",
    "plt.savefig('isentropic_chart.png',bbox_inches='tight')"
   ]
  },
  {
   "cell_type": "code",
   "execution_count": null,
   "id": "051a79fb-8953-42aa-a526-3d9bd4b6d1ae",
   "metadata": {},
   "outputs": [],
   "source": []
  }
 ],
 "metadata": {
  "kernelspec": {
   "display_name": "MPICH",
   "language": "python",
   "name": "mpich"
  },
  "language_info": {
   "codemirror_mode": {
    "name": "ipython",
    "version": 3
   },
   "file_extension": ".py",
   "mimetype": "text/x-python",
   "name": "python",
   "nbconvert_exporter": "python",
   "pygments_lexer": "ipython3",
   "version": "3.9.19"
  }
 },
 "nbformat": 4,
 "nbformat_minor": 5
}
